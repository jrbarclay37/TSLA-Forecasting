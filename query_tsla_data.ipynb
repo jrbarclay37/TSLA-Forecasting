{
 "cells": [
  {
   "cell_type": "markdown",
   "metadata": {},
   "source": [
    "# Query TSLA Data from Yahoo Finance"
   ]
  },
  {
   "cell_type": "code",
   "execution_count": 1,
   "metadata": {},
   "outputs": [],
   "source": [
    "import random\n",
    "import numpy as np\n",
    "import pandas as pd\n",
    "import seaborn as sns\n",
    "import yfinance as yf\n",
    "import matplotlib.pyplot as plt\n",
    "from datetime import timedelta, datetime\n",
    "\n",
    "#https://mrjbq7.github.io/ta-lib/func.html\n",
    "from talib import RSI, BBANDS, MACD, MOM, EMA, MA, T3, WMA, BETA, LINEARREG, STDDEV"
   ]
  },
  {
   "cell_type": "markdown",
   "metadata": {},
   "source": [
    "Here we will request daily data for TSLA and SPY tickers from yahoo finance."
   ]
  },
  {
   "cell_type": "code",
   "execution_count": 2,
   "metadata": {},
   "outputs": [],
   "source": [
    "random.seed(123)\n",
    "\n",
    "# TSLA\n",
    "tsla = yf.Ticker('TSLA')\n",
    "tsla_df = tsla.history(period='2y', interval='1d')\n",
    "\n",
    "# SPY\n",
    "spy = yf.Ticker('SPY')\n",
    "spy_df = spy.history(period='2y', interval='1d')"
   ]
  },
  {
   "cell_type": "markdown",
   "metadata": {},
   "source": [
    "Using the TA-Lib library, we can compute technical indicators to use as features in our forecasting model."
   ]
  },
  {
   "cell_type": "code",
   "execution_count": 3,
   "metadata": {},
   "outputs": [],
   "source": [
    "\"\"\"TECHNICAL ANALYSIS\"\"\"\n",
    "\n",
    "# MACD\n",
    "macd, macdsignal, macdhist = MACD(tsla_df['Close'], fastperiod=12, slowperiod=26, signalperiod=9)\n",
    "\n",
    "# Momentum\n",
    "momentum = MOM(tsla_df['Close'], timeperiod=10)\n",
    "\n",
    "# RSI\n",
    "rsi = RSI(tsla_df['Close'], timeperiod=14)\n",
    "\n",
    "# Bollinger Bands\n",
    "upperband, middleband, lowerband = BBANDS(tsla_df['Close'], timeperiod=5, nbdevup=2, nbdevdn=2, matype=0)\n",
    "\n",
    "# EMA (Exponential Moving Average)\n",
    "ema = EMA(tsla_df['Close'], timeperiod=30)\n",
    "\n",
    "# MA 10 day (Moving Average)\n",
    "ma10 = MA(tsla_df['Close'], timeperiod=10, matype=0)\n",
    "\n",
    "# MA 21 day (Moving Average)\n",
    "ma21 = MA(tsla_df['Close'], timeperiod=21, matype=0)\n",
    "\n",
    "# MA 50 day (Moving Average)\n",
    "ma50 = MA(tsla_df['Close'], timeperiod=50, matype=0)\n",
    "\n",
    "# T3 (Triple Exponential Moving Average)\n",
    "t3 = T3(tsla_df['Close'], timeperiod=5, vfactor=0)\n",
    "\n",
    "# WMA (Weighted Moving Average)\n",
    "wma = WMA(tsla_df['Close'], timeperiod=30)\n",
    "\n",
    "# Beta\n",
    "beta = BETA(tsla_df['High'], tsla_df['Low'], timeperiod=5)\n",
    "\n",
    "# Linear Reg\n",
    "lm = LINEARREG(tsla_df['Close'], timeperiod=14)\n",
    "\n",
    "# Standard Deviation\n",
    "sd = STDDEV(tsla_df['Close'], timeperiod=5, nbdev=1)"
   ]
  },
  {
   "cell_type": "code",
   "execution_count": 4,
   "metadata": {},
   "outputs": [],
   "source": [
    "# Add TA indicators to TSLA\n",
    "indicators = [macd, macdsignal, macdhist, momentum, rsi, ema, ma10, ma21, ma50, sd]\n",
    "names = ['MACD','MACD_SIGNAL','MACD_HIST','MOMENTUM','RSI','EMA','MA10','MA21','MA50','STD_DEV']\n",
    "\n",
    "for i, name in zip(indicators, names):\n",
    "    tsla_df = pd.concat((tsla_df, i), axis=1)\n",
    "    tsla_df = tsla_df.rename(columns={0:name})"
   ]
  },
  {
   "cell_type": "code",
   "execution_count": 5,
   "metadata": {},
   "outputs": [],
   "source": [
    "# Organize df\n",
    "tsla_df = tsla_df.rename(columns={'Close':'TSLA'})\n",
    "tsla_df = tsla_df[['TSLA', 'Volume', 'Dividends', 'Stock Splits',\n",
    "       'MACD', 'MACD_SIGNAL', 'MACD_HIST', 'MOMENTUM', 'RSI', 'EMA','MA10','MA21','MA50','STD_DEV']]\n",
    "\n",
    "# Add SPY\n",
    "tsla_df = tsla_df.merge(spy_df['Close'], how='left', left_index=True, right_index=True).rename(columns={'Close':'SPY'})"
   ]
  },
  {
   "cell_type": "code",
   "execution_count": 13,
   "metadata": {
    "collapsed": true
   },
   "outputs": [],
   "source": [
    "# Output data\n",
    "tsla_df.to_csv('TSLA_raw.csv')"
   ]
  }
 ],
 "metadata": {
  "kernelspec": {
   "display_name": "Python 3.7 (tensorflow)",
   "language": "python",
   "name": "lstm"
  },
  "language_info": {
   "codemirror_mode": {
    "name": "ipython",
    "version": 3
   },
   "file_extension": ".py",
   "mimetype": "text/x-python",
   "name": "python",
   "nbconvert_exporter": "python",
   "pygments_lexer": "ipython3",
   "version": "3.7.3"
  }
 },
 "nbformat": 4,
 "nbformat_minor": 2
}
