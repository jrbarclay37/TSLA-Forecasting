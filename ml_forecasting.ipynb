{
 "cells": [
  {
   "cell_type": "markdown",
   "metadata": {},
   "source": [
    "# Forecasting with Machine Learning"
   ]
  },
  {
   "cell_type": "markdown",
   "metadata": {},
   "source": [
    "In this final section, we are going to see how adding more information and leveraging the power of ensemble modeling impacts our ability to predict TSLA's stock price. Our baseline score from the ARIMA model is RMSE = 0.053, so our models should be achieving below this value."
   ]
  },
  {
   "cell_type": "code",
   "execution_count": 2,
   "metadata": {
    "collapsed": true
   },
   "outputs": [],
   "source": [
    "import math\n",
    "import random\n",
    "import numpy as np\n",
    "import pandas as pd\n",
    "import seaborn as sns\n",
    "import matplotlib.pyplot as plt\n",
    "from datetime import timedelta, datetime\n",
    "\n",
    "from sklearn.metrics import mean_absolute_error"
   ]
  },
  {
   "cell_type": "code",
   "execution_count": 4,
   "metadata": {
    "collapsed": true
   },
   "outputs": [],
   "source": [
    "# Read data\n",
    "tsla_df = pd.read_csv('TSLA_processed.csv', parse_dates=['Date']) \n",
    "\n",
    "# dates df for later use\n",
    "dates_df = pd.read_csv('TSLA_raw.csv', parse_dates=['Date']) \n",
    "dates_df = dates_df[dates_df['Date'] > datetime(2019, 9, 1)]\n",
    "dates_df = dates_df[['Date']]\n",
    "dates_df = dates_df.reset_index(drop=True).reset_index().rename(columns={'index':'Day'})"
   ]
  },
  {
   "cell_type": "code",
   "execution_count": 66,
   "metadata": {},
   "outputs": [
    {
     "data": {
      "text/html": [
       "<div>\n",
       "<style scoped>\n",
       "    .dataframe tbody tr th:only-of-type {\n",
       "        vertical-align: middle;\n",
       "    }\n",
       "\n",
       "    .dataframe tbody tr th {\n",
       "        vertical-align: top;\n",
       "    }\n",
       "\n",
       "    .dataframe thead th {\n",
       "        text-align: right;\n",
       "    }\n",
       "</style>\n",
       "<table border=\"1\" class=\"dataframe\">\n",
       "  <thead>\n",
       "    <tr style=\"text-align: right;\">\n",
       "      <th></th>\n",
       "      <th>TSLA(t+1)</th>\n",
       "      <th>TSLA</th>\n",
       "      <th>Volume</th>\n",
       "      <th>MACD</th>\n",
       "      <th>MACD_SIGNAL</th>\n",
       "      <th>MACD_HIST</th>\n",
       "      <th>MOMENTUM</th>\n",
       "      <th>RSI</th>\n",
       "      <th>EMA</th>\n",
       "      <th>MA10</th>\n",
       "      <th>...</th>\n",
       "      <th>STD_DEV(t-1)</th>\n",
       "      <th>SPY(t-1)</th>\n",
       "      <th>Sentiment Score(t-1)</th>\n",
       "      <th>Comment Volume(t-1)</th>\n",
       "      <th>Day(t-1)</th>\n",
       "      <th>Monthday(t-1)</th>\n",
       "      <th>Week(t-1)</th>\n",
       "      <th>Weekday(t-1)</th>\n",
       "      <th>Month(t-1)</th>\n",
       "      <th>Year(t-1)</th>\n",
       "    </tr>\n",
       "  </thead>\n",
       "  <tbody>\n",
       "    <tr>\n",
       "      <td>0</td>\n",
       "      <td>-0.009321</td>\n",
       "      <td>0.039538</td>\n",
       "      <td>0.522077</td>\n",
       "      <td>0.176652</td>\n",
       "      <td>0.059398</td>\n",
       "      <td>0.117253</td>\n",
       "      <td>2.785999</td>\n",
       "      <td>7.192328</td>\n",
       "      <td>0.001052</td>\n",
       "      <td>0.003984</td>\n",
       "      <td>...</td>\n",
       "      <td>-0.280315</td>\n",
       "      <td>0.011287</td>\n",
       "      <td>0.583838</td>\n",
       "      <td>0.506230</td>\n",
       "      <td>1.0</td>\n",
       "      <td>4.0</td>\n",
       "      <td>35.0</td>\n",
       "      <td>3.0</td>\n",
       "      <td>9.0</td>\n",
       "      <td>19.0</td>\n",
       "    </tr>\n",
       "    <tr>\n",
       "      <td>1</td>\n",
       "      <td>0.018901</td>\n",
       "      <td>-0.009321</td>\n",
       "      <td>0.448726</td>\n",
       "      <td>0.110307</td>\n",
       "      <td>0.069580</td>\n",
       "      <td>0.040727</td>\n",
       "      <td>-0.689999</td>\n",
       "      <td>-1.761905</td>\n",
       "      <td>0.000376</td>\n",
       "      <td>0.002405</td>\n",
       "      <td>...</td>\n",
       "      <td>-0.131486</td>\n",
       "      <td>0.012773</td>\n",
       "      <td>0.583838</td>\n",
       "      <td>0.506230</td>\n",
       "      <td>2.0</td>\n",
       "      <td>5.0</td>\n",
       "      <td>35.0</td>\n",
       "      <td>4.0</td>\n",
       "      <td>9.0</td>\n",
       "      <td>19.0</td>\n",
       "    </tr>\n",
       "    <tr>\n",
       "      <td>2</td>\n",
       "      <td>0.016049</td>\n",
       "      <td>0.018901</td>\n",
       "      <td>0.506604</td>\n",
       "      <td>0.160295</td>\n",
       "      <td>0.087723</td>\n",
       "      <td>0.072572</td>\n",
       "      <td>3.018002</td>\n",
       "      <td>3.297713</td>\n",
       "      <td>0.001588</td>\n",
       "      <td>0.009200</td>\n",
       "      <td>...</td>\n",
       "      <td>-0.062968</td>\n",
       "      <td>0.000772</td>\n",
       "      <td>0.583838</td>\n",
       "      <td>0.506230</td>\n",
       "      <td>3.0</td>\n",
       "      <td>6.0</td>\n",
       "      <td>35.0</td>\n",
       "      <td>5.0</td>\n",
       "      <td>9.0</td>\n",
       "      <td>19.0</td>\n",
       "    </tr>\n",
       "    <tr>\n",
       "      <td>3</td>\n",
       "      <td>0.047912</td>\n",
       "      <td>0.016049</td>\n",
       "      <td>0.498537</td>\n",
       "      <td>0.188220</td>\n",
       "      <td>0.107823</td>\n",
       "      <td>0.080398</td>\n",
       "      <td>0.029999</td>\n",
       "      <td>2.690668</td>\n",
       "      <td>0.002549</td>\n",
       "      <td>0.009183</td>\n",
       "      <td>...</td>\n",
       "      <td>0.259945</td>\n",
       "      <td>0.000503</td>\n",
       "      <td>0.665584</td>\n",
       "      <td>0.507393</td>\n",
       "      <td>4.0</td>\n",
       "      <td>9.0</td>\n",
       "      <td>36.0</td>\n",
       "      <td>1.0</td>\n",
       "      <td>9.0</td>\n",
       "      <td>19.0</td>\n",
       "    </tr>\n",
       "    <tr>\n",
       "      <td>4</td>\n",
       "      <td>-0.004990</td>\n",
       "      <td>0.047912</td>\n",
       "      <td>0.575493</td>\n",
       "      <td>0.332557</td>\n",
       "      <td>0.152770</td>\n",
       "      <td>0.179788</td>\n",
       "      <td>2.495995</td>\n",
       "      <td>7.018949</td>\n",
       "      <td>0.005649</td>\n",
       "      <td>0.014588</td>\n",
       "      <td>...</td>\n",
       "      <td>0.254411</td>\n",
       "      <td>-0.000235</td>\n",
       "      <td>0.665584</td>\n",
       "      <td>0.506230</td>\n",
       "      <td>5.0</td>\n",
       "      <td>10.0</td>\n",
       "      <td>36.0</td>\n",
       "      <td>2.0</td>\n",
       "      <td>9.0</td>\n",
       "      <td>19.0</td>\n",
       "    </tr>\n",
       "  </tbody>\n",
       "</table>\n",
       "<p>5 rows × 43 columns</p>\n",
       "</div>"
      ],
      "text/plain": [
       "   TSLA(t+1)      TSLA    Volume      MACD  MACD_SIGNAL  MACD_HIST  MOMENTUM  \\\n",
       "0  -0.009321  0.039538  0.522077  0.176652     0.059398   0.117253  2.785999   \n",
       "1   0.018901 -0.009321  0.448726  0.110307     0.069580   0.040727 -0.689999   \n",
       "2   0.016049  0.018901  0.506604  0.160295     0.087723   0.072572  3.018002   \n",
       "3   0.047912  0.016049  0.498537  0.188220     0.107823   0.080398  0.029999   \n",
       "4  -0.004990  0.047912  0.575493  0.332557     0.152770   0.179788  2.495995   \n",
       "\n",
       "        RSI       EMA      MA10  ...  STD_DEV(t-1)  SPY(t-1)  \\\n",
       "0  7.192328  0.001052  0.003984  ...     -0.280315  0.011287   \n",
       "1 -1.761905  0.000376  0.002405  ...     -0.131486  0.012773   \n",
       "2  3.297713  0.001588  0.009200  ...     -0.062968  0.000772   \n",
       "3  2.690668  0.002549  0.009183  ...      0.259945  0.000503   \n",
       "4  7.018949  0.005649  0.014588  ...      0.254411 -0.000235   \n",
       "\n",
       "   Sentiment Score(t-1)  Comment Volume(t-1)  Day(t-1)  Monthday(t-1)  \\\n",
       "0              0.583838             0.506230       1.0            4.0   \n",
       "1              0.583838             0.506230       2.0            5.0   \n",
       "2              0.583838             0.506230       3.0            6.0   \n",
       "3              0.665584             0.507393       4.0            9.0   \n",
       "4              0.665584             0.506230       5.0           10.0   \n",
       "\n",
       "   Week(t-1)  Weekday(t-1)  Month(t-1)  Year(t-1)  \n",
       "0       35.0           3.0         9.0       19.0  \n",
       "1       35.0           4.0         9.0       19.0  \n",
       "2       35.0           5.0         9.0       19.0  \n",
       "3       36.0           1.0         9.0       19.0  \n",
       "4       36.0           2.0         9.0       19.0  \n",
       "\n",
       "[5 rows x 43 columns]"
      ]
     },
     "execution_count": 66,
     "metadata": {},
     "output_type": "execute_result"
    }
   ],
   "source": [
    "tsla_df.head()"
   ]
  },
  {
   "cell_type": "markdown",
   "metadata": {},
   "source": [
    "# Random Forest"
   ]
  },
  {
   "cell_type": "markdown",
   "metadata": {},
   "source": [
    "Our first machine learning model will be a Random Forest, which is an ensemble model of decision trees."
   ]
  },
  {
   "cell_type": "markdown",
   "metadata": {},
   "source": [
    "#### Train Model"
   ]
  },
  {
   "cell_type": "code",
   "execution_count": 67,
   "metadata": {
    "collapsed": true
   },
   "outputs": [],
   "source": [
    "from sklearn.ensemble import RandomForestRegressor"
   ]
  },
  {
   "cell_type": "code",
   "execution_count": 68,
   "metadata": {},
   "outputs": [
    {
     "data": {
      "text/plain": [
       "RandomForestRegressor(bootstrap=True, criterion='mse', max_depth=None,\n",
       "                      max_features='auto', max_leaf_nodes=None,\n",
       "                      min_impurity_decrease=0.0, min_impurity_split=None,\n",
       "                      min_samples_leaf=1, min_samples_split=2,\n",
       "                      min_weight_fraction_leaf=0.0, n_estimators=100,\n",
       "                      n_jobs=None, oob_score=False, random_state=0, verbose=0,\n",
       "                      warm_start=False)"
      ]
     },
     "execution_count": 68,
     "metadata": {},
     "output_type": "execute_result"
    }
   ],
   "source": [
    "training_size = 350\n",
    "horizon = 1\n",
    "\n",
    "# Training data\n",
    "tsla_df = pd.read_csv('TSLA_processed.csv')\n",
    "X = tsla_df.iloc[:training_size-horizon,1:]\n",
    "y = tsla_df.iloc[:training_size-horizon,0]    \n",
    "\n",
    "# Random Forest \n",
    "regr = RandomForestRegressor(n_estimators=100, random_state=0)\n",
    "regr.fit(X, y)     "
   ]
  },
  {
   "cell_type": "markdown",
   "metadata": {},
   "source": [
    "Below, we can visualize the relative feature importance for our top variables in the random forest fit to the training set."
   ]
  },
  {
   "cell_type": "code",
   "execution_count": 69,
   "metadata": {},
   "outputs": [
    {
     "data": {
      "image/png": "[encoded data removed]",
      "text/plain": [
       "<Figure size 1920x960 with 1 Axes>"
      ]
     },
     "metadata": {},
     "output_type": "display_data"
    }
   ],
   "source": [
    "# Feature Importance\n",
    "features = list(tsla_df.columns)[1:]\n",
    "importances = regr.feature_importances_\n",
    "indices = np.argsort(importances)\n",
    "\n",
    "# Top Features\n",
    "indices = indices[:15]\n",
    "\n",
    "sns.set(rc={'figure.figsize':(16, 8)})\n",
    "\n",
    "plt.title('Feature Importances')\n",
    "plt.barh(range(len(indices)), importances[indices], color='b', align='center')\n",
    "plt.yticks(range(len(indices)), [features[i] for i in indices])\n",
    "plt.xlabel('Relative Importance')\n",
    "plt.show()"
   ]
  },
  {
   "cell_type": "markdown",
   "metadata": {},
   "source": [
    "#### Test model on last month of data"
   ]
  },
  {
   "cell_type": "code",
   "execution_count": 70,
   "metadata": {},
   "outputs": [
    {
     "name": "stdout",
     "output_type": "stream",
     "text": [
      "Test RMSE: 0.046\n"
     ]
    }
   ],
   "source": [
    "# Random Forest   \n",
    "training_size = 350\n",
    "\n",
    "# Split train and test sets (test = 30 days)\n",
    "X = tsla_df.iloc[:,1:]\n",
    "y = tsla_df.iloc[:,0] \n",
    "X_train, X_test = X.iloc[0:training_size,:], X.iloc[training_size:X.shape[0],:]\n",
    "y_train, y_test = y[0:training_size], y[training_size:len(y)]\n",
    "\n",
    "# train model\n",
    "regr = RandomForestRegressor(n_estimators=100, random_state=0)\n",
    "regr.fit(X_train, y_train)  \n",
    "\n",
    "train_pred = regr.predict(X_train)\n",
    "y_true = y_train.values\n",
    "test_pred = []\n",
    "\n",
    "# walk-forward predictions \n",
    "for t in range(training_size, X.shape[0]-1):\n",
    "    regr.fit(X.iloc[:t,:], y[:t]) \n",
    "    yhat = regr.predict(X.iloc[t,:][:,None].T) #reshape with broadcasting\n",
    "    test_pred.append(yhat)\n",
    "    obs = y[t]\n",
    "rmse = math.sqrt(mean_squared_error(y_test.values[:-1], test_pred))\n",
    "print(f\"Test RMSE: {round(rmse, 3)}\")"
   ]
  },
  {
   "cell_type": "markdown",
   "metadata": {},
   "source": [
    "The Random Forest outperformed our ARIMA model's baseline of 0.053 by 13% with an RMSE of 0.046."
   ]
  },
  {
   "cell_type": "markdown",
   "metadata": {},
   "source": [
    "#### Plot Test Predictions"
   ]
  },
  {
   "cell_type": "code",
   "execution_count": 71,
   "metadata": {
    "collapsed": true
   },
   "outputs": [],
   "source": [
    "# Prep predictions for visual\n",
    "train_pred = [i for i in train_pred]\n",
    "test_pred = [i[0] for i in test_pred]\n",
    "pred = train_pred + test_pred\n",
    "pred = pd.Series(pred)\n",
    "pred_df = pd.DataFrame({'Day':pred.index, 'Price':pred})\n",
    "\n",
    "# Add 1 Day index for one-day forecast predictions\n",
    "pred_df['Day'] +=1\n",
    "pred_df.index += 1"
   ]
  },
  {
   "cell_type": "code",
   "execution_count": 72,
   "metadata": {
    "collapsed": true
   },
   "outputs": [],
   "source": [
    "# Recover Price from predictions\n",
    "tsla_prices = pd.read_csv('TSLA_raw.csv', parse_dates=['Date'])\n",
    "tsla_prices = tsla_prices[tsla_prices['Date'] > datetime(2019, 9, 1)].reset_index(drop=True)\n",
    "\n",
    "# Get series of prices - lagging by 1 to account for differencing\n",
    "tsla_prices = np.log(tsla_prices['TSLA'])[1:].reset_index(drop=True) \n",
    "\n",
    "pred_df = pred_df.merge(tsla_prices.to_frame(), left_index=True, right_index=True)\n",
    "pred_df['Price'] = pred_df['Price'] + pred_df['TSLA']\n",
    "\n",
    "pred_df['Recovered Price'] = np.exp(pred_df['Price'])\n",
    "pred_df['Type'] = 'Predicted'\n",
    "pred_df = pred_df.drop('TSLA', axis=1)\n",
    "pred_df = pred_df.rename(columns={'Recovered Price':'TSLA'})\n",
    "pred_df = pred_df[['Day','TSLA','Type']]"
   ]
  },
  {
   "cell_type": "code",
   "execution_count": 73,
   "metadata": {
    "collapsed": true
   },
   "outputs": [],
   "source": [
    "obs_df = pd.read_csv('TSLA_raw.csv', parse_dates=['Date'])\n",
    "obs_df = obs_df[obs_df['Date'] > datetime(2019, 9, 4)].reset_index(drop=True) # drop first 3 values\n",
    "obs_df['Type'] = 'Observed'\n",
    "obs_df['Day'] = obs_df.index\n",
    "obs_df = obs_df[['Day','TSLA','Type']]\n",
    "rf_pred = pd.concat([obs_df, pred_df], ignore_index=True, sort=False)"
   ]
  },
  {
   "cell_type": "code",
   "execution_count": 74,
   "metadata": {},
   "outputs": [
    {
     "data": {
      "image/png": "[encoded data removed]",
      "text/plain": [
       "<Figure size 720x360 with 1 Axes>"
      ]
     },
     "metadata": {},
     "output_type": "display_data"
    }
   ],
   "source": [
    "plt.rcParams.update({'figure.figsize':(6,3), 'figure.dpi':120})\n",
    "\n",
    "# Plot\n",
    "sns.lineplot(data= rf_pred[rf_pred['Day'] > 349], x=\"Day\", y=\"TSLA\", hue=\"Type\")\n",
    "plt.title(\"TSLA Forecasting Predictions\")\n",
    "plt.show()"
   ]
  },
  {
   "cell_type": "markdown",
   "metadata": {},
   "source": [
    "# XGBoost"
   ]
  },
  {
   "cell_type": "markdown",
   "metadata": {},
   "source": [
    "Next, we will be training an XGBoost model. Like the Random Forest, this is a decision tree based ensemble model. The distinguishing difference is that XGBoost uses a gradient boosting framework. "
   ]
  },
  {
   "cell_type": "code",
   "execution_count": 76,
   "metadata": {
    "collapsed": true
   },
   "outputs": [],
   "source": [
    "import xgboost\n",
    "from sklearn.model_selection import GridSearchCV"
   ]
  },
  {
   "cell_type": "markdown",
   "metadata": {},
   "source": [
    "Let's train our XGBoost model and use GridSearch to select the best parameters. (This may take a while to run)"
   ]
  },
  {
   "cell_type": "code",
   "execution_count": 77,
   "metadata": {
    "collapsed": true
   },
   "outputs": [],
   "source": [
    "training_size = 350\n",
    "horizon = 1\n",
    "\n",
    "# Training data\n",
    "X = tsla_df.iloc[:training_size-horizon,1:]\n",
    "y = tsla_df.iloc[:training_size-horizon,0] \n",
    "\n",
    "# Parameters\n",
    "params = {'colsample_bytree':[0.4,0.6,0.8],\n",
    "         'gamma':[0,0.03,0.1,0.3],\n",
    "         'min_child_weight':[1.5,6,10],\n",
    "         'learning_rate':[0.1,0.07],\n",
    "         'max_depth':[3,5],\n",
    "         'n_estimators':[100],\n",
    "         'reg_alpha':[1e-5, 1e-2,  0.75],\n",
    "         'reg_lambda':[1e-5, 1e-2, 0.45],\n",
    "         'subsample':[0.6,0.95],\n",
    "         'random_state':[0]} \n",
    "\n",
    "# XGBoost  \n",
    "regr = GridSearchCV(xgboost.XGBRegressor(), params)\n",
    "regr.fit(X, y)     "
   ]
  },
  {
   "cell_type": "code",
   "execution_count": null,
   "metadata": {
    "collapsed": true
   },
   "outputs": [],
   "source": [
    "regr.best_params_"
   ]
  },
  {
   "cell_type": "code",
   "execution_count": null,
   "metadata": {
    "collapsed": true
   },
   "outputs": [],
   "source": [
    "# {'colsample_bytree': 0.8,\n",
    "#  'gamma': 0.1,\n",
    "#  'learning_rate': 0.1,\n",
    "#  'max_depth': 3,\n",
    "#  'min_child_weight': 1.5,\n",
    "#  'n_estimators': 100,\n",
    "#  'random_state': 0,\n",
    "#  'reg_alpha': 1e-05,\n",
    "#  'reg_lambda': 1e-05,\n",
    "#  'subsample': 0.6}"
   ]
  },
  {
   "cell_type": "code",
   "execution_count": 79,
   "metadata": {},
   "outputs": [
    {
     "name": "stdout",
     "output_type": "stream",
     "text": [
      "Test RMSE: 0.044\n"
     ]
    }
   ],
   "source": [
    "# XGBoost   \n",
    "training_size = 350\n",
    "\n",
    "params = {'colsample_bytree': 0.8,\n",
    "         'gamma': 0.1,\n",
    "         'learning_rate': 0.1,\n",
    "         'max_depth': 3,\n",
    "         'min_child_weight': 1.5,\n",
    "         'n_estimators': 100,\n",
    "         'random_state': 0,\n",
    "         'reg_alpha': 1e-05,\n",
    "         'reg_lambda': 1e-05,\n",
    "         'subsample': 0.6,\n",
    "         'random_state':0}\n",
    "\n",
    "#params = {'n_estimators': 100, 'random_state':0}\n",
    "\n",
    "# Split train and test sets (test = 30 days)\n",
    "X = tsla_df.iloc[:,1:]\n",
    "y = tsla_df.iloc[:,0] \n",
    "X_train, X_test = X.iloc[0:training_size,:], X.iloc[training_size:X.shape[0],:]\n",
    "y_train, y_test = y[0:training_size], y[training_size:len(y)]\n",
    "\n",
    "# train model\n",
    "regr = xgboost.XGBRegressor(**params)\n",
    "regr.fit(X_train.values, y_train)  \n",
    "\n",
    "train_pred = regr.predict(X_train.values)\n",
    "y_true = y_train.values\n",
    "test_pred = []\n",
    "\n",
    "# walk-forward predictions (except last record)\n",
    "for t in range(training_size, X.shape[0]-1):\n",
    "    regr.fit(X.iloc[:t,:].values, y[:t]) \n",
    "    yhat = regr.predict(X.iloc[t,:][:,None].T) #reshape with broadcasting\n",
    "    test_pred.append(yhat)\n",
    "    obs = y[t]\n",
    "rmse = math.sqrt(mean_squared_error(y_test.values[:-1], test_pred))\n",
    "print(f\"Test RMSE: {round(rmse, 3)}\")"
   ]
  },
  {
   "cell_type": "markdown",
   "metadata": {},
   "source": [
    "The XGBoost model outperformed our ARIMA model's baseline of 0.053 by 17% with an RMSE of 0.044."
   ]
  },
  {
   "cell_type": "markdown",
   "metadata": {},
   "source": [
    "# LSTM "
   ]
  },
  {
   "cell_type": "markdown",
   "metadata": {},
   "source": [
    "Finally, we will be training a Long Short Term Memory network. These are usually just called “LSTMs”. They are a special kind of RNN, selectively remembering (or forgetting) patterns for long durations of time. Their feedback connections make them capable of processing entire sequences of data (i.e. speech, video) instead of single data points. This makes LSTMs well-suited for making predictions on time series data."
   ]
  },
  {
   "cell_type": "code",
   "execution_count": 15,
   "metadata": {},
   "outputs": [
    {
     "name": "stderr",
     "output_type": "stream",
     "text": [
      "Using TensorFlow backend.\n"
     ]
    }
   ],
   "source": [
    "# LSTM\n",
    "import math\n",
    "import matplotlib.pyplot as plt\n",
    "import keras\n",
    "import pandas as pd\n",
    "import numpy as np\n",
    "from keras.models import Sequential\n",
    "from keras.layers import Dense\n",
    "from keras.layers import LSTM\n",
    "from keras.layers import Dropout\n",
    "from keras.layers import *\n",
    "from sklearn.preprocessing import MinMaxScaler\n",
    "from sklearn.metrics import mean_squared_error\n",
    "from sklearn.metrics import mean_absolute_error\n",
    "from sklearn.model_selection import train_test_split\n",
    "from keras.callbacks import EarlyStopping"
   ]
  },
  {
   "cell_type": "code",
   "execution_count": 16,
   "metadata": {
    "collapsed": true
   },
   "outputs": [],
   "source": [
    "import tensorflow as tf"
   ]
  },
  {
   "cell_type": "code",
   "execution_count": 29,
   "metadata": {
    "collapsed": true
   },
   "outputs": [],
   "source": [
    "# Move target variable to the end\n",
    "tsla_cols = ['TSLA', 'Volume', 'MACD', 'MACD_SIGNAL', 'MACD_HIST',\n",
    "       'MOMENTUM', 'RSI', 'EMA', 'MA10', 'MA21', 'MA50', 'STD_DEV', 'SPY',\n",
    "       'Sentiment Score', 'Comment Volume', 'Day', 'Monthday', 'Week', 'Weekday',\n",
    "       'Month', 'Year','TSLA(t+1)']\n",
    "tsla_df = tsla_df[tsla_cols]"
   ]
  },
  {
   "cell_type": "markdown",
   "metadata": {},
   "source": [
    "#### Data Prep"
   ]
  },
  {
   "cell_type": "code",
   "execution_count": 31,
   "metadata": {
    "collapsed": true
   },
   "outputs": [],
   "source": [
    "# Training data\n",
    "training_size = 350\n",
    "df = tsla_df.copy()\n",
    "\n",
    "# Drop last record without value for target variable\n",
    "df = df.iloc[:-1,:]\n",
    "\n",
    "# train - test split\n",
    "train_df, test_df = df.iloc[:training_size, :], df.loc[training_size:, :]"
   ]
  },
  {
   "cell_type": "code",
   "execution_count": 32,
   "metadata": {
    "collapsed": true
   },
   "outputs": [],
   "source": [
    "# Prep data\n",
    "values = df.values\n",
    "values = values.astype('float64')\n",
    "# normalize features\n",
    "scaler = MinMaxScaler(feature_range=(0, 1))\n",
    "scaled = scaler.fit_transform(values)"
   ]
  },
  {
   "cell_type": "markdown",
   "metadata": {},
   "source": [
    "#### Define and Fit Model"
   ]
  },
  {
   "cell_type": "code",
   "execution_count": 36,
   "metadata": {},
   "outputs": [
    {
     "name": "stdout",
     "output_type": "stream",
     "text": [
      "(350, 1, 21) (350,) (26, 1, 21) (26,)\n"
     ]
    }
   ],
   "source": [
    "# Fit an LSTM with our multivariate input data\n",
    "values = scaled\n",
    "n_train_days = 350\n",
    "train = values[:n_train_days, :]\n",
    "test = values[n_train_days:, :]\n",
    "# split into input and outputs\n",
    "train_X, train_y = train[:, :-1], train[:, -1]\n",
    "test_X, test_y = test[:, :-1], test[:, -1]\n",
    "# reshape input to be 3D [samples, timesteps, features]\n",
    "train_X = train_X.reshape((train_X.shape[0], 1, train_X.shape[1]))\n",
    "test_X = test_X.reshape((test_X.shape[0], 1, test_X.shape[1]))\n",
    "print(train_X.shape, train_y.shape, test_X.shape, test_y.shape)"
   ]
  },
  {
   "cell_type": "markdown",
   "metadata": {},
   "source": [
    "We will define the LSTM with 50 neurons in the first hidden layer and 1 neuron in the output layer for predicting TSLA's price. The input shape will be 1 time step with 26 features.\n",
    "\n",
    "The model will be fit for 50 training epochs with a batch size of 5. The internal state of the LSTM in Keras is reset at the end of each batch, so an internal state that is a function of a number of days may be helpful, in this case 5 days (one week in the stock market)."
   ]
  },
  {
   "cell_type": "code",
   "execution_count": 37,
   "metadata": {},
   "outputs": [
    {
     "name": "stdout",
     "output_type": "stream",
     "text": [
      "WARNING:tensorflow:From C:\\Users\\joshb\\.conda\\envs\\LSTM\\lib\\site-packages\\keras\\backend\\tensorflow_backend.py:422: The name tf.global_variables is deprecated. Please use tf.compat.v1.global_variables instead.\n",
      "\n",
      "Train on 350 samples, validate on 26 samples\n",
      "Epoch 1/50\n",
      " - 1s - loss: 0.1166 - val_loss: 0.0942\n",
      "Epoch 2/50\n",
      " - 0s - loss: 0.0945 - val_loss: 0.0915\n",
      "Epoch 3/50\n",
      " - 0s - loss: 0.0919 - val_loss: 0.0850\n",
      "Epoch 4/50\n",
      " - 0s - loss: 0.0896 - val_loss: 0.0813\n",
      "Epoch 5/50\n",
      " - 0s - loss: 0.0894 - val_loss: 0.0827\n",
      "Epoch 6/50\n",
      " - 0s - loss: 0.0883 - val_loss: 0.0810\n",
      "Epoch 7/50\n",
      " - 0s - loss: 0.0872 - val_loss: 0.0878\n",
      "Epoch 8/50\n",
      " - 0s - loss: 0.0853 - val_loss: 0.0895\n",
      "Epoch 9/50\n",
      " - 0s - loss: 0.0851 - val_loss: 0.0880\n",
      "Epoch 10/50\n",
      " - 0s - loss: 0.0849 - val_loss: 0.0864\n",
      "Epoch 11/50\n",
      " - 0s - loss: 0.0853 - val_loss: 0.0912\n",
      "Epoch 12/50\n",
      " - 0s - loss: 0.0854 - val_loss: 0.0900\n",
      "Epoch 13/50\n",
      " - 0s - loss: 0.0849 - val_loss: 0.0882\n",
      "Epoch 14/50\n",
      " - 0s - loss: 0.0849 - val_loss: 0.0884\n",
      "Epoch 15/50\n",
      " - 0s - loss: 0.0850 - val_loss: 0.0864\n",
      "Epoch 16/50\n",
      " - 0s - loss: 0.0843 - val_loss: 0.0864\n",
      "Epoch 17/50\n",
      " - 0s - loss: 0.0838 - val_loss: 0.0846\n",
      "Epoch 18/50\n",
      " - 0s - loss: 0.0848 - val_loss: 0.0830\n",
      "Epoch 19/50\n",
      " - 0s - loss: 0.0842 - val_loss: 0.0833\n",
      "Epoch 20/50\n",
      " - 0s - loss: 0.0842 - val_loss: 0.0833\n",
      "Epoch 21/50\n",
      " - 0s - loss: 0.0841 - val_loss: 0.0831\n",
      "Epoch 22/50\n",
      " - 0s - loss: 0.0849 - val_loss: 0.0786\n",
      "Epoch 23/50\n",
      " - 0s - loss: 0.0840 - val_loss: 0.0819\n",
      "Epoch 24/50\n",
      " - 0s - loss: 0.0838 - val_loss: 0.0829\n",
      "Epoch 25/50\n",
      " - 0s - loss: 0.0845 - val_loss: 0.0773\n",
      "Epoch 26/50\n",
      " - 0s - loss: 0.0834 - val_loss: 0.0808\n",
      "Epoch 27/50\n",
      " - 0s - loss: 0.0834 - val_loss: 0.0820\n",
      "Epoch 28/50\n",
      " - 0s - loss: 0.0832 - val_loss: 0.0826\n",
      "Epoch 29/50\n",
      " - 0s - loss: 0.0837 - val_loss: 0.0785\n",
      "Epoch 30/50\n",
      " - 0s - loss: 0.0830 - val_loss: 0.0833\n",
      "Epoch 31/50\n",
      " - 0s - loss: 0.0831 - val_loss: 0.0788\n",
      "Epoch 32/50\n",
      " - 0s - loss: 0.0827 - val_loss: 0.0834\n",
      "Epoch 33/50\n",
      " - 0s - loss: 0.0831 - val_loss: 0.0796\n",
      "Epoch 34/50\n",
      " - 0s - loss: 0.0828 - val_loss: 0.0830\n",
      "Epoch 35/50\n",
      " - 0s - loss: 0.0826 - val_loss: 0.0804\n",
      "Epoch 36/50\n",
      " - 0s - loss: 0.0826 - val_loss: 0.0829\n",
      "Epoch 37/50\n",
      " - 0s - loss: 0.0832 - val_loss: 0.0827\n",
      "Epoch 38/50\n",
      " - 0s - loss: 0.0825 - val_loss: 0.0856\n",
      "Epoch 39/50\n",
      " - 0s - loss: 0.0826 - val_loss: 0.0819\n",
      "Epoch 40/50\n",
      " - 0s - loss: 0.0826 - val_loss: 0.0838\n",
      "Epoch 41/50\n",
      " - 0s - loss: 0.0825 - val_loss: 0.0812\n",
      "Epoch 42/50\n",
      " - 0s - loss: 0.0823 - val_loss: 0.0847\n",
      "Epoch 43/50\n",
      " - 0s - loss: 0.0821 - val_loss: 0.0845\n",
      "Epoch 44/50\n",
      " - 0s - loss: 0.0822 - val_loss: 0.0835\n",
      "Epoch 45/50\n",
      " - 0s - loss: 0.0825 - val_loss: 0.0777\n",
      "Epoch 46/50\n",
      " - 0s - loss: 0.0828 - val_loss: 0.0850\n",
      "Epoch 47/50\n",
      " - 0s - loss: 0.0820 - val_loss: 0.0808\n",
      "Epoch 48/50\n",
      " - 0s - loss: 0.0818 - val_loss: 0.0851\n",
      "Epoch 49/50\n",
      " - 0s - loss: 0.0821 - val_loss: 0.0820\n",
      "Epoch 50/50\n",
      " - 0s - loss: 0.0820 - val_loss: 0.0819\n"
     ]
    },
    {
     "data": {
      "image/png": "[encoded data removed]",
      "text/plain": [
       "<Figure size 600x240 with 1 Axes>"
      ]
     },
     "metadata": {
      "needs_background": "light"
     },
     "output_type": "display_data"
    }
   ],
   "source": [
    "# Now we can define and fit our LSTM model.\n",
    "# design network\n",
    "model = Sequential()\n",
    "model.add(LSTM(50, input_shape=(train_X.shape[1], train_X.shape[2])))\n",
    "model.add(Dense(1))\n",
    "model.compile(loss='mae', optimizer='adam')\n",
    "# fit network\n",
    "history = model.fit(train_X, train_y, epochs=50, batch_size=5, validation_data=(test_X, test_y), verbose=2, shuffle=False)\n",
    "# plot history\n",
    "plt.plot(history.history['loss'], label='train')\n",
    "plt.plot(history.history['val_loss'], label='test')\n",
    "plt.legend()\n",
    "plt.show()"
   ]
  },
  {
   "cell_type": "markdown",
   "metadata": {},
   "source": [
    "#### Evaluate Model"
   ]
  },
  {
   "cell_type": "code",
   "execution_count": 75,
   "metadata": {},
   "outputs": [
    {
     "name": "stdout",
     "output_type": "stream",
     "text": [
      "Test RMSE: 0.043\n"
     ]
    }
   ],
   "source": [
    "# make a prediction\n",
    "yhat = model.predict(test_X)\n",
    "test_X = test_X.reshape((test_X.shape[0], test_X.shape[2]))\n",
    "# invert scaling for forecast\n",
    "inv_yhat = np.concatenate((yhat, test_X), axis=1)\n",
    "inv_yhat = scaler.inverse_transform(inv_yhat)\n",
    "inv_yhat = inv_yhat[:,0]\n",
    "# invert scaling for actual\n",
    "test_y = test_y.reshape((len(test_y), 1))\n",
    "inv_y = np.concatenate((test_y, test_X), axis=1)\n",
    "inv_y = scaler.inverse_transform(inv_y)\n",
    "inv_y = inv_y[:,0]\n",
    "# calculate RMSE\n",
    "rmse = np.sqrt(mean_squared_error(inv_y, inv_yhat))\n",
    "print('Test RMSE: %.3f' % rmse)"
   ]
  },
  {
   "cell_type": "markdown",
   "metadata": {},
   "source": [
    "The LSTM outperformed our ARIMA model's baseline of 0.053 by 19% with an RMSE of 0.043.\n",
    "\n",
    "In conclusion, there is still much variation that is unaccounted for in our models. It may benefit us to collect more sentiment data from Twitter or news articles in a future iteration. However, we are able to outperform our ARIMA baseline in all three models and the LSTM is our champion model, outperforming our Random Forest and XGBoost models by 6.5% and 2.3%, respectively."
   ]
  }
 ],
 "metadata": {
  "kernelspec": {
   "display_name": "Python 3.7 (tensorflow)",
   "language": "python",
   "name": "lstm"
  },
  "language_info": {
   "codemirror_mode": {
    "name": "ipython",
    "version": 3
   },
   "file_extension": ".py",
   "mimetype": "text/x-python",
   "name": "python",
   "nbconvert_exporter": "python",
   "pygments_lexer": "ipython3",
   "version": "3.7.3"
  }
 },
 "nbformat": 4,
 "nbformat_minor": 4
}
